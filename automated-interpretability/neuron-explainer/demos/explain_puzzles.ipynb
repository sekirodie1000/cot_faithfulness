{
 "cells": [
  {
   "cell_type": "code",
   "execution_count": null,
   "metadata": {},
   "outputs": [],
   "source": [
    "%load_ext autoreload\n",
    "%autoreload 2"
   ]
  },
  {
   "cell_type": "code",
   "execution_count": null,
   "metadata": {},
   "outputs": [],
   "source": [
    "import os\n",
    "\n",
    "os.environ[\"OPENAI_API_KEY\"] = \"put-key-here\"\n",
    "\n",
    "from neuron_explainer.activations.activation_records import calculate_max_activation\n",
    "from neuron_explainer.explanations.explainer import TokenActivationPairExplainer\n",
    "from neuron_explainer.explanations.prompt_builder import PromptFormat\n",
    "from neuron_explainer.explanations.puzzles import PUZZLES_BY_NAME\n",
    "\n",
    "\n",
    "EXPLAINER_MODEL_NAME = \"gpt-4\"\n",
    "\n",
    "explainer = TokenActivationPairExplainer(\n",
    "    model_name=EXPLAINER_MODEL_NAME,\n",
    "    prompt_format=PromptFormat.HARMONY_V4,\n",
    "    max_concurrent=1,\n",
    ")\n",
    "\n",
    "for puzzle_name, puzzle in PUZZLES_BY_NAME.items():\n",
    "    print(f\"{puzzle_name=}\")\n",
    "    puzzle_answer = puzzle.explanation\n",
    "    # Generate an explanation for the puzzle.\n",
    "    explanations = await explainer.generate_explanations(\n",
    "        all_activation_records=puzzle.activation_records,\n",
    "        max_activation=calculate_max_activation(puzzle.activation_records),\n",
    "        num_samples=1,\n",
    "    )\n",
    "    assert len(explanations) == 1\n",
    "    model_generated_explanation = explanations[0]\n",
    "    print(f\"{model_generated_explanation=}\")\n",
    "    print(f\"{puzzle_answer=}\\n\")\n",
    "\n"
   ]
  }
 ],
 "metadata": {
  "kernelspec": {
   "display_name": "openai",
   "language": "python",
   "name": "openai"
  },
  "language_info": {
   "codemirror_mode": {
    "name": "ipython",
    "version": 3
   },
   "file_extension": ".py",
   "mimetype": "text/x-python",
   "name": "python",
   "nbconvert_exporter": "python",
   "pygments_lexer": "ipython3",
   "version": "3.9.9"
  },
  "orig_nbformat": 4
 },
 "nbformat": 4,
 "nbformat_minor": 2
}
